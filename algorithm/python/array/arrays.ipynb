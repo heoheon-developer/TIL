{
 "cells": [
  {
   "cell_type": "code",
   "execution_count": 1,
   "metadata": {
    "tags": []
   },
   "outputs": [
    {
     "output_type": "stream",
     "name": "stdout",
     "text": "[[1, 2, 3], [4, 5, 6]]\n"
    }
   ],
   "source": [
    "# 배열의 장점\n",
    "# 빠른 접근이 가능\n",
    "arr = [[1,2,3],[4,5,6]]\n",
    "print(arr)"
   ]
  },
  {
   "cell_type": "code",
   "execution_count": 1,
   "metadata": {},
   "outputs": [
    {
     "output_type": "execute_result",
     "data": {
      "text/plain": "'bUFFY AND fAITH'"
     },
     "metadata": {},
     "execution_count": 1
    }
   ],
   "source": [
    "#wapcase()메서드\n",
    "\n",
    "slayers = \"Buffy and Faith\"\n",
    "slayers.swapcase()\n",
    "# 문자열 A에서 대소문자를 반전한 문자열의 복사복을 반환한다\n",
    "\n"
   ]
  },
  {
   "cell_type": "code",
   "execution_count": null,
   "metadata": {},
   "outputs": [],
   "source": [
    "#"
   ]
  }
 ],
 "metadata": {
  "language_info": {
   "codemirror_mode": {
    "name": "ipython",
    "version": 3
   },
   "file_extension": ".py",
   "mimetype": "text/x-python",
   "name": "python",
   "nbconvert_exporter": "python",
   "pygments_lexer": "ipython3",
   "version": 3
  },
  "orig_nbformat": 2,
  "kernelspec": {
   "name": "python_defaultSpec_1596463515712",
   "display_name": "Python 3.7.5 32-bit"
  }
 },
 "nbformat": 4,
 "nbformat_minor": 2
}